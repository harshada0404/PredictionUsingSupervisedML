{
 "cells": [
  {
   "cell_type": "markdown",
   "id": "b9b0026f",
   "metadata": {},
   "source": [
    "# Author: Harshada Meghashyam Halarnkar"
   ]
  },
  {
   "cell_type": "markdown",
   "id": "1806766d",
   "metadata": {},
   "source": [
    "Data Science and Business Analytics Intern September 2021 Batch at Sparks Foundation"
   ]
  },
  {
   "cell_type": "markdown",
   "id": "9c568d0a",
   "metadata": {},
   "source": [
    "Task 1: Prediction using Supervised ML"
   ]
  },
  {
   "cell_type": "markdown",
   "id": "a86d71e4",
   "metadata": {},
   "source": [
    "Software Tool: Jupyter Notebook "
   ]
  },
  {
   "cell_type": "markdown",
   "id": "49f392cb",
   "metadata": {},
   "source": [
    "Method : Linear Regression"
   ]
  },
  {
   "cell_type": "markdown",
   "id": "22d215de",
   "metadata": {},
   "source": [
    "  "
   ]
  },
  {
   "cell_type": "markdown",
   "id": "94cd6dd4",
   "metadata": {},
   "source": [
    "Step 1: Importing packages"
   ]
  },
  {
   "cell_type": "code",
   "execution_count": 112,
   "id": "f2853f59",
   "metadata": {},
   "outputs": [],
   "source": [
    "import pandas as pd\n",
    "import numpy as np\n",
    "import matplotlib.pyplot as pt\n",
    "from sklearn.linear_model import LinearRegression\n",
    "import sklearn"
   ]
  },
  {
   "cell_type": "markdown",
   "id": "636f36ff",
   "metadata": {},
   "source": [
    "Step 2: Importing the dataset from my system"
   ]
  },
  {
   "cell_type": "code",
   "execution_count": 113,
   "id": "6317b769",
   "metadata": {},
   "outputs": [],
   "source": [
    "data_frame = pd.read_excel(\"Task1.xlsx\")"
   ]
  },
  {
   "cell_type": "markdown",
   "id": "4632f236",
   "metadata": {},
   "source": [
    "Step 3: Plotting the Scatter Plot using .scatter() function"
   ]
  },
  {
   "cell_type": "code",
   "execution_count": 114,
   "id": "2dd98dbd",
   "metadata": {},
   "outputs": [
    {
     "data": {
      "image/png": "[encoded data removed]",
      "text/plain": [
       "<Figure size 432x288 with 1 Axes>"
      ]
     },
     "metadata": {
      "needs_background": "light"
     },
     "output_type": "display_data"
    }
   ],
   "source": [
    "data_frame.plot.scatter('Hours','Scores',c='g',linewidths = 1, marker =\"o\",s = 50,alpha=1)\n",
    "pt.title(\"Scatter plot of Hours studied Vs Marks scored\")\n",
    "pt.xlabel(\"Hours studied\")\n",
    "pt.ylabel(\"% of marks scored\")\n",
    "pt.grid(color='b',linestyle='--', linewidth=0.5)"
   ]
  },
  {
   "cell_type": "markdown",
   "id": "a49f5998",
   "metadata": {},
   "source": [
    "Step 4: Finding correlation between the variables"
   ]
  },
  {
   "cell_type": "code",
   "execution_count": 115,
   "id": "21811a70",
   "metadata": {},
   "outputs": [
    {
     "data": {
      "text/html": [
       "<div>\n",
       "<style scoped>\n",
       "    .dataframe tbody tr th:only-of-type {\n",
       "        vertical-align: middle;\n",
       "    }\n",
       "\n",
       "    .dataframe tbody tr th {\n",
       "        vertical-align: top;\n",
       "    }\n",
       "\n",
       "    .dataframe thead th {\n",
       "        text-align: right;\n",
       "    }\n",
       "</style>\n",
       "<table border=\"1\" class=\"dataframe\">\n",
       "  <thead>\n",
       "    <tr style=\"text-align: right;\">\n",
       "      <th></th>\n",
       "      <th>Hours</th>\n",
       "      <th>Scores</th>\n",
       "    </tr>\n",
       "  </thead>\n",
       "  <tbody>\n",
       "    <tr>\n",
       "      <th>Hours</th>\n",
       "      <td>1.000000</td>\n",
       "      <td>0.976191</td>\n",
       "    </tr>\n",
       "    <tr>\n",
       "      <th>Scores</th>\n",
       "      <td>0.976191</td>\n",
       "      <td>1.000000</td>\n",
       "    </tr>\n",
       "  </tbody>\n",
       "</table>\n",
       "</div>"
      ],
      "text/plain": [
       "           Hours    Scores\n",
       "Hours   1.000000  0.976191\n",
       "Scores  0.976191  1.000000"
      ]
     },
     "execution_count": 115,
     "metadata": {},
     "output_type": "execute_result"
    }
   ],
   "source": [
    "correlation = data_frame.corr()\n",
    "correlation"
   ]
  },
  {
   "cell_type": "markdown",
   "id": "334e1014",
   "metadata": {},
   "source": [
    "We can see that there is a strong correlation between hours studied and scores received"
   ]
  },
  {
   "cell_type": "markdown",
   "id": "c6a980d0",
   "metadata": {},
   "source": [
    "Step 5: Setting training & testing set"
   ]
  },
  {
   "cell_type": "code",
   "execution_count": 156,
   "id": "e6ed6aff",
   "metadata": {},
   "outputs": [
    {
     "name": "stdout",
     "output_type": "stream",
     "text": [
      "Training Set:\n"
     ]
    },
    {
     "data": {
      "text/html": [
       "<div>\n",
       "<style scoped>\n",
       "    .dataframe tbody tr th:only-of-type {\n",
       "        vertical-align: middle;\n",
       "    }\n",
       "\n",
       "    .dataframe tbody tr th {\n",
       "        vertical-align: top;\n",
       "    }\n",
       "\n",
       "    .dataframe thead th {\n",
       "        text-align: right;\n",
       "    }\n",
       "</style>\n",
       "<table border=\"1\" class=\"dataframe\">\n",
       "  <thead>\n",
       "    <tr style=\"text-align: right;\">\n",
       "      <th></th>\n",
       "      <th>Hours</th>\n",
       "      <th>Scores</th>\n",
       "    </tr>\n",
       "  </thead>\n",
       "  <tbody>\n",
       "    <tr>\n",
       "      <th>1</th>\n",
       "      <td>2.7</td>\n",
       "      <td>25</td>\n",
       "    </tr>\n",
       "    <tr>\n",
       "      <th>2</th>\n",
       "      <td>8.5</td>\n",
       "      <td>75</td>\n",
       "    </tr>\n",
       "    <tr>\n",
       "      <th>3</th>\n",
       "      <td>2.5</td>\n",
       "      <td>30</td>\n",
       "    </tr>\n",
       "    <tr>\n",
       "      <th>4</th>\n",
       "      <td>4.5</td>\n",
       "      <td>41</td>\n",
       "    </tr>\n",
       "    <tr>\n",
       "      <th>5</th>\n",
       "      <td>3.8</td>\n",
       "      <td>35</td>\n",
       "    </tr>\n",
       "    <tr>\n",
       "      <th>6</th>\n",
       "      <td>3.5</td>\n",
       "      <td>30</td>\n",
       "    </tr>\n",
       "    <tr>\n",
       "      <th>7</th>\n",
       "      <td>7.7</td>\n",
       "      <td>85</td>\n",
       "    </tr>\n",
       "    <tr>\n",
       "      <th>8</th>\n",
       "      <td>1.5</td>\n",
       "      <td>20</td>\n",
       "    </tr>\n",
       "    <tr>\n",
       "      <th>9</th>\n",
       "      <td>7.4</td>\n",
       "      <td>69</td>\n",
       "    </tr>\n",
       "    <tr>\n",
       "      <th>10</th>\n",
       "      <td>5.1</td>\n",
       "      <td>47</td>\n",
       "    </tr>\n",
       "    <tr>\n",
       "      <th>11</th>\n",
       "      <td>3.2</td>\n",
       "      <td>27</td>\n",
       "    </tr>\n",
       "    <tr>\n",
       "      <th>12</th>\n",
       "      <td>5.5</td>\n",
       "      <td>60</td>\n",
       "    </tr>\n",
       "    <tr>\n",
       "      <th>13</th>\n",
       "      <td>4.8</td>\n",
       "      <td>54</td>\n",
       "    </tr>\n",
       "    <tr>\n",
       "      <th>14</th>\n",
       "      <td>2.7</td>\n",
       "      <td>30</td>\n",
       "    </tr>\n",
       "    <tr>\n",
       "      <th>15</th>\n",
       "      <td>6.1</td>\n",
       "      <td>67</td>\n",
       "    </tr>\n",
       "    <tr>\n",
       "      <th>16</th>\n",
       "      <td>5.9</td>\n",
       "      <td>62</td>\n",
       "    </tr>\n",
       "    <tr>\n",
       "      <th>17</th>\n",
       "      <td>7.8</td>\n",
       "      <td>86</td>\n",
       "    </tr>\n",
       "    <tr>\n",
       "      <th>18</th>\n",
       "      <td>3.3</td>\n",
       "      <td>42</td>\n",
       "    </tr>\n",
       "    <tr>\n",
       "      <th>19</th>\n",
       "      <td>8.9</td>\n",
       "      <td>95</td>\n",
       "    </tr>\n",
       "    <tr>\n",
       "      <th>20</th>\n",
       "      <td>8.3</td>\n",
       "      <td>81</td>\n",
       "    </tr>\n",
       "  </tbody>\n",
       "</table>\n",
       "</div>"
      ],
      "text/plain": [
       "    Hours  Scores\n",
       "1     2.7      25\n",
       "2     8.5      75\n",
       "3     2.5      30\n",
       "4     4.5      41\n",
       "5     3.8      35\n",
       "6     3.5      30\n",
       "7     7.7      85\n",
       "8     1.5      20\n",
       "9     7.4      69\n",
       "10    5.1      47\n",
       "11    3.2      27\n",
       "12    5.5      60\n",
       "13    4.8      54\n",
       "14    2.7      30\n",
       "15    6.1      67\n",
       "16    5.9      62\n",
       "17    7.8      86\n",
       "18    3.3      42\n",
       "19    8.9      95\n",
       "20    8.3      81"
      ]
     },
     "metadata": {},
     "output_type": "display_data"
    },
    {
     "name": "stdout",
     "output_type": "stream",
     "text": [
      "Testing Set\n"
     ]
    },
    {
     "data": {
      "text/html": [
       "<div>\n",
       "<style scoped>\n",
       "    .dataframe tbody tr th:only-of-type {\n",
       "        vertical-align: middle;\n",
       "    }\n",
       "\n",
       "    .dataframe tbody tr th {\n",
       "        vertical-align: top;\n",
       "    }\n",
       "\n",
       "    .dataframe thead th {\n",
       "        text-align: right;\n",
       "    }\n",
       "</style>\n",
       "<table border=\"1\" class=\"dataframe\">\n",
       "  <thead>\n",
       "    <tr style=\"text-align: right;\">\n",
       "      <th></th>\n",
       "      <th>Hours</th>\n",
       "      <th>Scores</th>\n",
       "    </tr>\n",
       "  </thead>\n",
       "  <tbody>\n",
       "    <tr>\n",
       "      <th>1</th>\n",
       "      <td>1.1</td>\n",
       "      <td>17</td>\n",
       "    </tr>\n",
       "    <tr>\n",
       "      <th>2</th>\n",
       "      <td>2.5</td>\n",
       "      <td>21</td>\n",
       "    </tr>\n",
       "    <tr>\n",
       "      <th>3</th>\n",
       "      <td>1.9</td>\n",
       "      <td>24</td>\n",
       "    </tr>\n",
       "    <tr>\n",
       "      <th>4</th>\n",
       "      <td>9.2</td>\n",
       "      <td>88</td>\n",
       "    </tr>\n",
       "    <tr>\n",
       "      <th>5</th>\n",
       "      <td>6.9</td>\n",
       "      <td>76</td>\n",
       "    </tr>\n",
       "  </tbody>\n",
       "</table>\n",
       "</div>"
      ],
      "text/plain": [
       "   Hours  Scores\n",
       "1    1.1      17\n",
       "2    2.5      21\n",
       "3    1.9      24\n",
       "4    9.2      88\n",
       "5    6.9      76"
      ]
     },
     "metadata": {},
     "output_type": "display_data"
    }
   ],
   "source": [
    "training_dataset, test_dataset = sklearn.model_selection.train_test_split(data_frame, test_size = 0.2,random_state = 2)\n",
    "print(\"Training Set:\")\n",
    "training_dataset.index=range(1,21,1)\n",
    "display(training_dataset)\n",
    "print(\"Testing Set\")\n",
    "test_dataset.index=range(1,6,1)\n",
    "display(test_dataset)"
   ]
  },
  {
   "cell_type": "code",
   "execution_count": 157,
   "id": "a215364b",
   "metadata": {},
   "outputs": [],
   "source": [
    "x_train = training_dataset['Hours'].to_numpy().reshape(-1,1)\n",
    "y_train = training_dataset['Scores'].to_numpy().transpose().flatten()\n",
    "x_test = test_dataset['Hours'].to_numpy().reshape(-1,1)\n",
    "y_test = test_dataset['Scores'].to_numpy().transpose().flatten()"
   ]
  },
  {
   "cell_type": "markdown",
   "id": "bd5bdb7c",
   "metadata": {},
   "source": [
    "Step 6: Creating a training model"
   ]
  },
  {
   "cell_type": "code",
   "execution_count": 158,
   "id": "f1486c68",
   "metadata": {},
   "outputs": [],
   "source": [
    " model = LinearRegression().fit(x_train,y_train)"
   ]
  },
  {
   "cell_type": "markdown",
   "id": "b7a0d851",
   "metadata": {},
   "source": [
    "Step 7: Plotting the Regression Line"
   ]
  },
  {
   "cell_type": "code",
   "execution_count": 159,
   "id": "08598558",
   "metadata": {},
   "outputs": [
    {
     "data": {
      "image/png": "[encoded data removed]",
      "text/plain": [
       "<Figure size 432x288 with 1 Axes>"
      ]
     },
     "metadata": {
      "needs_background": "light"
     },
     "output_type": "display_data"
    }
   ],
   "source": [
    "y_new = model.intercept_ + x_train * model.coef_\n",
    "pt.plot(x_train,y_new,c='g', marker =\"o\",alpha=1)\n",
    "pt.title(\"Regression Line of Hours studied Vs Marks scored\")\n",
    "pt.xlabel(\"Hours studied\")\n",
    "pt.ylabel(\"% of marks scored\")\n",
    "pt.grid(color='b',linestyle='--', linewidth=0.5)\n",
    "pt.scatter(x_train,y_train)\n",
    "pt.show()"
   ]
  },
  {
   "cell_type": "code",
   "execution_count": 160,
   "id": "3d231bad",
   "metadata": {},
   "outputs": [
    {
     "name": "stdout",
     "output_type": "stream",
     "text": [
      "Coefficient of Determination or R-Square: 0.9423348138802985\n"
     ]
    }
   ],
   "source": [
    "R_square = model.score(x_train,y_train)\n",
    "print(\"Coefficient of Determination or R-Square:\",R_square)"
   ]
  },
  {
   "cell_type": "markdown",
   "id": "8cc69481",
   "metadata": {},
   "source": [
    "Step 8: Testing the Model"
   ]
  },
  {
   "cell_type": "code",
   "execution_count": 161,
   "id": "2531e93b",
   "metadata": {},
   "outputs": [
    {
     "data": {
      "text/html": [
       "<div>\n",
       "<style scoped>\n",
       "    .dataframe tbody tr th:only-of-type {\n",
       "        vertical-align: middle;\n",
       "    }\n",
       "\n",
       "    .dataframe tbody tr th {\n",
       "        vertical-align: top;\n",
       "    }\n",
       "\n",
       "    .dataframe thead th {\n",
       "        text-align: right;\n",
       "    }\n",
       "</style>\n",
       "<table border=\"1\" class=\"dataframe\">\n",
       "  <thead>\n",
       "    <tr style=\"text-align: right;\">\n",
       "      <th></th>\n",
       "      <th>Actual</th>\n",
       "      <th>Predicted</th>\n",
       "    </tr>\n",
       "  </thead>\n",
       "  <tbody>\n",
       "    <tr>\n",
       "      <th>1</th>\n",
       "      <td>17</td>\n",
       "      <td>12.442587</td>\n",
       "    </tr>\n",
       "    <tr>\n",
       "      <th>2</th>\n",
       "      <td>21</td>\n",
       "      <td>26.359448</td>\n",
       "    </tr>\n",
       "    <tr>\n",
       "      <th>3</th>\n",
       "      <td>24</td>\n",
       "      <td>20.395079</td>\n",
       "    </tr>\n",
       "    <tr>\n",
       "      <th>4</th>\n",
       "      <td>88</td>\n",
       "      <td>92.961570</td>\n",
       "    </tr>\n",
       "    <tr>\n",
       "      <th>5</th>\n",
       "      <td>76</td>\n",
       "      <td>70.098155</td>\n",
       "    </tr>\n",
       "  </tbody>\n",
       "</table>\n",
       "</div>"
      ],
      "text/plain": [
       "   Actual  Predicted\n",
       "1      17  12.442587\n",
       "2      21  26.359448\n",
       "3      24  20.395079\n",
       "4      88  92.961570\n",
       "5      76  70.098155"
      ]
     },
     "execution_count": 161,
     "metadata": {},
     "output_type": "execute_result"
    }
   ],
   "source": [
    "y_pred = model.predict(x_test)\n",
    "comparison = pd.DataFrame({'Actual':y_test,'Predicted':y_pred})\n",
    "comparison.index=range(1,6,1)\n",
    "comparison"
   ]
  },
  {
   "cell_type": "markdown",
   "id": "fd7123f3",
   "metadata": {},
   "source": [
    "Step 9: Predicting the model"
   ]
  },
  {
   "cell_type": "code",
   "execution_count": 162,
   "id": "7071e13c",
   "metadata": {},
   "outputs": [
    {
     "name": "stdout",
     "output_type": "stream",
     "text": [
      "No of Hours = [[9.25]]\n",
      "Predicted Score = 93.45860055685799\n"
     ]
    }
   ],
   "source": [
    "hours = np.array(9.25).reshape(-1,1)\n",
    "own_pred = model.predict(hours)\n",
    "print(\"No of Hours = {}\".format(hours))\n",
    "print(\"Predicted Score = {}\".format(own_pred[0]))"
   ]
  },
  {
   "cell_type": "markdown",
   "id": "79b604af",
   "metadata": {},
   "source": [
    "Step 10: Evaluating the model for Error"
   ]
  },
  {
   "cell_type": "code",
   "execution_count": 163,
   "id": "9e1472f8",
   "metadata": {},
   "outputs": [
    {
     "name": "stdout",
     "output_type": "stream",
     "text": [
      "Error: 4.877039354964484\n",
      "Error: 4.938382360637607\n"
     ]
    }
   ],
   "source": [
    "from sklearn import metrics  \n",
    "import math\n",
    "print('Error:', metrics.mean_absolute_error(y_test, y_pred)) \n",
    "print('Error:', math.sqrt(metrics.mean_squared_error(y_test, y_pred))) "
   ]
  }
 ],
 "metadata": {
  "kernelspec": {
   "display_name": "Python 3",
   "language": "python",
   "name": "python3"
  },
  "language_info": {
   "codemirror_mode": {
    "name": "ipython",
    "version": 3
   },
   "file_extension": ".py",
   "mimetype": "text/x-python",
   "name": "python",
   "nbconvert_exporter": "python",
   "pygments_lexer": "ipython3",
   "version": "3.8.8"
  }
 },
 "nbformat": 4,
 "nbformat_minor": 5
}
